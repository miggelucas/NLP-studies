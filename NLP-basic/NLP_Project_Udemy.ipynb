{
  "nbformat": 4,
  "nbformat_minor": 0,
  "metadata": {
    "kernelspec": {
      "display_name": "Python 3",
      "language": "python",
      "name": "python3"
    },
    "language_info": {
      "codemirror_mode": {
        "name": "ipython",
        "version": 3
      },
      "file_extension": ".py",
      "mimetype": "text/x-python",
      "name": "python",
      "nbconvert_exporter": "python",
      "pygments_lexer": "ipython3",
      "version": "3.5.1"
    },
    "colab": {
      "name": "NLP Project-Udemy.ipynb",
      "provenance": [],
      "include_colab_link": true
    },
    "accelerator": "GPU"
  },
  "cells": [
    {
      "cell_type": "markdown",
      "metadata": {
        "id": "view-in-github",
        "colab_type": "text"
      },
      "source": [
        "<a href=\"https://colab.research.google.com/github/miggelucas/NLP-studies/blob/main/NLP_Project_Udemy.ipynb\" target=\"_parent\"><img src=\"https://colab.research.google.com/assets/colab-badge.svg\" alt=\"Open In Colab\"/></a>"
      ]
    },
    {
      "cell_type": "markdown",
      "metadata": {
        "id": "d2SSBzMxgNMP"
      },
      "source": [
        "___\n",
        "\n",
        "<a href='http://www.pieriandata.com'> <img src='https://github.com/miggelucas/NLP-studies/blob/Pierian_Data_Logo.png?raw=1' /></a>\n",
        "___"
      ]
    },
    {
      "cell_type": "markdown",
      "metadata": {
        "id": "o5G9vO8bgNMV"
      },
      "source": [
        "# Natural Language Processing Project\n",
        "\n",
        "In this NLP project I tried to classify Yelp Reviews into 1 star or 5 star categories based off the text content in the reviews. \n",
        "\n",
        "For this task I will use the [Yelp Review Data Set from Kaggle](https://www.kaggle.com/c/yelp-recsys-2013). Althought, this dataset it's too big, so I decided to make a sample of it\n",
        "\n",
        "Each observation in this dataset is a review of a particular business by a particular user.\n",
        "\n",
        "The \"stars\" column is the number of stars (1 through 5) assigned by the reviewer to the business. (Higher stars is better.) In other words, it is the rating of the business by the person who wrote the review.\n",
        "\n",
        "The \"cool\" column is the number of \"cool\" votes this review received from other Yelp users. \n",
        "\n",
        "All reviews start with 0 \"cool\" votes, and there is no limit to how many \"cool\" votes a review can receive. In other words, it is a rating of the review itself, not a rating of the business.\n",
        "\n",
        "The \"useful\" and \"funny\" columns are similar to the \"cool\" column."
      ]
    },
    {
      "cell_type": "code",
      "metadata": {
        "collapsed": true,
        "id": "zBW_1oUbgNMX"
      },
      "source": [
        "import numpy as np\n",
        "import pandas as pd\n",
        "import matplotlib.pyplot as plt\n",
        "%matplotlib inline\n",
        "import seaborn as sns\n",
        "import nltk\n",
        "from sklearn.feature_extraction.text import CountVectorizer, TfidfTransformer\n",
        "from sklearn.model_selection import train_test_split\n",
        "from sklearn.naive_bayes import MultinomialNB\n",
        "from sklearn.ensemble import RandomForestClassifier\n",
        "from sklearn.metrics import confusion_matrix, classification_report\n",
        "from sklearn.pipeline import Pipeline"
      ],
      "execution_count": 1,
      "outputs": []
    },
    {
      "cell_type": "markdown",
      "metadata": {
        "id": "X2Fi_3vngNMY"
      },
      "source": [
        "# The Data\n",
        "\n",
        "Reading yelp_training_set_review.json and getting a sample "
      ]
    },
    {
      "cell_type": "code",
      "metadata": {
        "collapsed": true,
        "id": "oaWK4j0ugNMZ"
      },
      "source": [
        "data = pd.read_json('/content/yelp_training_set_review.json', lines= True)"
      ],
      "execution_count": null,
      "outputs": []
    },
    {
      "cell_type": "code",
      "metadata": {
        "id": "p1o5WZc66K5C",
        "colab": {
          "base_uri": "https://localhost:8080/",
          "height": 204
        },
        "outputId": "31b027ce-e7e6-4300-8ae9-7b243c42d135"
      },
      "source": [
        "# date, type, user_id, review_id and business_id don't seens to be useful, so I might drop this values\n",
        "data.head()"
      ],
      "execution_count": null,
      "outputs": [
        {
          "output_type": "execute_result",
          "data": {
            "text/html": [
              "<div>\n",
              "<style scoped>\n",
              "    .dataframe tbody tr th:only-of-type {\n",
              "        vertical-align: middle;\n",
              "    }\n",
              "\n",
              "    .dataframe tbody tr th {\n",
              "        vertical-align: top;\n",
              "    }\n",
              "\n",
              "    .dataframe thead th {\n",
              "        text-align: right;\n",
              "    }\n",
              "</style>\n",
              "<table border=\"1\" class=\"dataframe\">\n",
              "  <thead>\n",
              "    <tr style=\"text-align: right;\">\n",
              "      <th></th>\n",
              "      <th>votes</th>\n",
              "      <th>user_id</th>\n",
              "      <th>review_id</th>\n",
              "      <th>stars</th>\n",
              "      <th>date</th>\n",
              "      <th>text</th>\n",
              "      <th>type</th>\n",
              "      <th>business_id</th>\n",
              "    </tr>\n",
              "  </thead>\n",
              "  <tbody>\n",
              "    <tr>\n",
              "      <th>0</th>\n",
              "      <td>{'funny': 0, 'useful': 5, 'cool': 2}</td>\n",
              "      <td>rLtl8ZkDX5vH5nAx9C3q5Q</td>\n",
              "      <td>fWKvX83p0-ka4JS3dc6E5A</td>\n",
              "      <td>5</td>\n",
              "      <td>2011-01-26</td>\n",
              "      <td>My wife took me here on my birthday for breakf...</td>\n",
              "      <td>review</td>\n",
              "      <td>9yKzy9PApeiPPOUJEtnvkg</td>\n",
              "    </tr>\n",
              "    <tr>\n",
              "      <th>1</th>\n",
              "      <td>{'funny': 0, 'useful': 0, 'cool': 0}</td>\n",
              "      <td>0a2KyEL0d3Yb1V6aivbIuQ</td>\n",
              "      <td>IjZ33sJrzXqU-0X6U8NwyA</td>\n",
              "      <td>5</td>\n",
              "      <td>2011-07-27</td>\n",
              "      <td>I have no idea why some people give bad review...</td>\n",
              "      <td>review</td>\n",
              "      <td>ZRJwVLyzEJq1VAihDhYiow</td>\n",
              "    </tr>\n",
              "    <tr>\n",
              "      <th>2</th>\n",
              "      <td>{'funny': 0, 'useful': 1, 'cool': 0}</td>\n",
              "      <td>0hT2KtfLiobPvh6cDC8JQg</td>\n",
              "      <td>IESLBzqUCLdSzSqm0eCSxQ</td>\n",
              "      <td>4</td>\n",
              "      <td>2012-06-14</td>\n",
              "      <td>love the gyro plate. Rice is so good and I als...</td>\n",
              "      <td>review</td>\n",
              "      <td>6oRAC4uyJCsJl1X0WZpVSA</td>\n",
              "    </tr>\n",
              "    <tr>\n",
              "      <th>3</th>\n",
              "      <td>{'funny': 0, 'useful': 2, 'cool': 1}</td>\n",
              "      <td>uZetl9T0NcROGOyFfughhg</td>\n",
              "      <td>G-WvGaISbqqaMHlNnByodA</td>\n",
              "      <td>5</td>\n",
              "      <td>2010-05-27</td>\n",
              "      <td>Rosie, Dakota, and I LOVE Chaparral Dog Park!!...</td>\n",
              "      <td>review</td>\n",
              "      <td>_1QQZuf4zZOyFCvXc0o6Vg</td>\n",
              "    </tr>\n",
              "    <tr>\n",
              "      <th>4</th>\n",
              "      <td>{'funny': 0, 'useful': 0, 'cool': 0}</td>\n",
              "      <td>vYmM4KTsC8ZfQBg-j5MWkw</td>\n",
              "      <td>1uJFq2r5QfJG_6ExMRCaGw</td>\n",
              "      <td>5</td>\n",
              "      <td>2012-01-05</td>\n",
              "      <td>General Manager Scott Petello is a good egg!!!...</td>\n",
              "      <td>review</td>\n",
              "      <td>6ozycU1RpktNG2-1BroVtw</td>\n",
              "    </tr>\n",
              "  </tbody>\n",
              "</table>\n",
              "</div>"
            ],
            "text/plain": [
              "                                  votes  ...             business_id\n",
              "0  {'funny': 0, 'useful': 5, 'cool': 2}  ...  9yKzy9PApeiPPOUJEtnvkg\n",
              "1  {'funny': 0, 'useful': 0, 'cool': 0}  ...  ZRJwVLyzEJq1VAihDhYiow\n",
              "2  {'funny': 0, 'useful': 1, 'cool': 0}  ...  6oRAC4uyJCsJl1X0WZpVSA\n",
              "3  {'funny': 0, 'useful': 2, 'cool': 1}  ...  _1QQZuf4zZOyFCvXc0o6Vg\n",
              "4  {'funny': 0, 'useful': 0, 'cool': 0}  ...  6ozycU1RpktNG2-1BroVtw\n",
              "\n",
              "[5 rows x 8 columns]"
            ]
          },
          "metadata": {},
          "execution_count": 391
        }
      ]
    },
    {
      "cell_type": "code",
      "metadata": {
        "colab": {
          "base_uri": "https://localhost:8080/",
          "height": 52
        },
        "id": "B-pFwLy3yjtH",
        "outputId": "a7e8fd60-914a-4475-9525-450f98f5e05b"
      },
      "source": [
        "\"\"\"\n",
        "a = time.time()\n",
        "for vote in ['funny', 'useful', 'cool']:\n",
        "  data[vote] = [x[1][0][vote] for x in data.iterrows()]\n",
        "\n",
        "data.drop(columns= 'votes', inplace= True)\n",
        "b = time.time()\n",
        "print(\"essa operação levou: \", b-a)\n",
        "\"\"\""
      ],
      "execution_count": null,
      "outputs": [
        {
          "output_type": "execute_result",
          "data": {
            "application/vnd.google.colaboratory.intrinsic+json": {
              "type": "string"
            },
            "text/plain": [
              "'\\na = time.time()\\nfor vote in [\\'funny\\', \\'useful\\', \\'cool\\']:\\n  data[vote] = [x[1][0][vote] for x in data.iterrows()]\\n\\ndata.drop(columns= \\'votes\\', inplace= True)\\nb = time.time()\\nprint(\"essa operação levou: \", b-a)\\n'"
            ]
          },
          "metadata": {},
          "execution_count": 392
        }
      ]
    },
    {
      "cell_type": "code",
      "metadata": {
        "colab": {
          "base_uri": "https://localhost:8080/",
          "height": 204
        },
        "id": "o9hUeYCW_OH6",
        "outputId": "fe6d33a3-384a-4ffa-8197-851a9d3156ad"
      },
      "source": [
        "# votes was kinds inside; putting values in columns\n",
        "# alternative way that ended up been faster\n",
        "\n",
        "for vote in  ['funny', 'useful', 'cool']:\n",
        "  data[vote] = [data['votes'][x][vote] for x in range(len(data))]\n",
        "\n",
        "data.drop(columns= ['votes', 'review_id', 'business_id', 'user_id', 'date', 'type'], inplace= True)\n",
        "data.head()"
      ],
      "execution_count": null,
      "outputs": [
        {
          "output_type": "execute_result",
          "data": {
            "text/html": [
              "<div>\n",
              "<style scoped>\n",
              "    .dataframe tbody tr th:only-of-type {\n",
              "        vertical-align: middle;\n",
              "    }\n",
              "\n",
              "    .dataframe tbody tr th {\n",
              "        vertical-align: top;\n",
              "    }\n",
              "\n",
              "    .dataframe thead th {\n",
              "        text-align: right;\n",
              "    }\n",
              "</style>\n",
              "<table border=\"1\" class=\"dataframe\">\n",
              "  <thead>\n",
              "    <tr style=\"text-align: right;\">\n",
              "      <th></th>\n",
              "      <th>stars</th>\n",
              "      <th>text</th>\n",
              "      <th>funny</th>\n",
              "      <th>useful</th>\n",
              "      <th>cool</th>\n",
              "    </tr>\n",
              "  </thead>\n",
              "  <tbody>\n",
              "    <tr>\n",
              "      <th>0</th>\n",
              "      <td>5</td>\n",
              "      <td>My wife took me here on my birthday for breakf...</td>\n",
              "      <td>0</td>\n",
              "      <td>5</td>\n",
              "      <td>2</td>\n",
              "    </tr>\n",
              "    <tr>\n",
              "      <th>1</th>\n",
              "      <td>5</td>\n",
              "      <td>I have no idea why some people give bad review...</td>\n",
              "      <td>0</td>\n",
              "      <td>0</td>\n",
              "      <td>0</td>\n",
              "    </tr>\n",
              "    <tr>\n",
              "      <th>2</th>\n",
              "      <td>4</td>\n",
              "      <td>love the gyro plate. Rice is so good and I als...</td>\n",
              "      <td>0</td>\n",
              "      <td>1</td>\n",
              "      <td>0</td>\n",
              "    </tr>\n",
              "    <tr>\n",
              "      <th>3</th>\n",
              "      <td>5</td>\n",
              "      <td>Rosie, Dakota, and I LOVE Chaparral Dog Park!!...</td>\n",
              "      <td>0</td>\n",
              "      <td>2</td>\n",
              "      <td>1</td>\n",
              "    </tr>\n",
              "    <tr>\n",
              "      <th>4</th>\n",
              "      <td>5</td>\n",
              "      <td>General Manager Scott Petello is a good egg!!!...</td>\n",
              "      <td>0</td>\n",
              "      <td>0</td>\n",
              "      <td>0</td>\n",
              "    </tr>\n",
              "  </tbody>\n",
              "</table>\n",
              "</div>"
            ],
            "text/plain": [
              "   stars                                               text  ...  useful  cool\n",
              "0      5  My wife took me here on my birthday for breakf...  ...       5     2\n",
              "1      5  I have no idea why some people give bad review...  ...       0     0\n",
              "2      4  love the gyro plate. Rice is so good and I als...  ...       1     0\n",
              "3      5  Rosie, Dakota, and I LOVE Chaparral Dog Park!!...  ...       2     1\n",
              "4      5  General Manager Scott Petello is a good egg!!!...  ...       0     0\n",
              "\n",
              "[5 rows x 5 columns]"
            ]
          },
          "metadata": {},
          "execution_count": 393
        }
      ]
    },
    {
      "cell_type": "code",
      "metadata": {
        "colab": {
          "base_uri": "https://localhost:8080/"
        },
        "id": "ouhjbUw8gNMb",
        "outputId": "7130d775-4762-4ce9-9bed-efff1e7754b8"
      },
      "source": [
        "# data has 0 non-zero values\n",
        "# data it's huge, might be worth to get a sample\n",
        "data.info()"
      ],
      "execution_count": null,
      "outputs": [
        {
          "output_type": "stream",
          "name": "stdout",
          "text": [
            "<class 'pandas.core.frame.DataFrame'>\n",
            "RangeIndex: 229907 entries, 0 to 229906\n",
            "Data columns (total 5 columns):\n",
            " #   Column  Non-Null Count   Dtype \n",
            "---  ------  --------------   ----- \n",
            " 0   stars   229907 non-null  int64 \n",
            " 1   text    229907 non-null  object\n",
            " 2   funny   229907 non-null  int64 \n",
            " 3   useful  229907 non-null  int64 \n",
            " 4   cool    229907 non-null  int64 \n",
            "dtypes: int64(4), object(1)\n",
            "memory usage: 8.8+ MB\n"
          ]
        }
      ]
    },
    {
      "cell_type": "code",
      "metadata": {
        "id": "7B_AScu98UTM",
        "colab": {
          "base_uri": "https://localhost:8080/"
        },
        "outputId": "2efba729-98ce-49dd-ccb9-b2204cabf62e"
      },
      "source": [
        "data.stars.value_counts()"
      ],
      "execution_count": null,
      "outputs": [
        {
          "output_type": "execute_result",
          "data": {
            "text/plain": [
              "4    79878\n",
              "5    76193\n",
              "3    35363\n",
              "2    20957\n",
              "1    17516\n",
              "Name: stars, dtype: int64"
            ]
          },
          "metadata": {},
          "execution_count": 395
        }
      ]
    },
    {
      "cell_type": "code",
      "metadata": {
        "id": "IdZNCGBm8rDH",
        "colab": {
          "base_uri": "https://localhost:8080/"
        },
        "outputId": "897b3ffc-f914-4357-e1ca-5cf77156777b"
      },
      "source": [
        "# geting 10000 for each stars category \n",
        "star1 = data[data['stars'] == 1].sample(17000)\n",
        "star2 = data[data['stars'] == 2].sample(17000)\n",
        "star3 = data[data['stars'] == 3].sample(17000)\n",
        "star4 = data[data['stars'] == 4].sample(17000)\n",
        "star5 = data[data['stars'] == 5].sample(17000)\n",
        "\n",
        "df = pd.concat([star1, star2, star3, star4, star5])\n",
        "df.info()"
      ],
      "execution_count": null,
      "outputs": [
        {
          "output_type": "stream",
          "name": "stdout",
          "text": [
            "<class 'pandas.core.frame.DataFrame'>\n",
            "Int64Index: 85000 entries, 115101 to 186350\n",
            "Data columns (total 5 columns):\n",
            " #   Column  Non-Null Count  Dtype \n",
            "---  ------  --------------  ----- \n",
            " 0   stars   85000 non-null  int64 \n",
            " 1   text    85000 non-null  object\n",
            " 2   funny   85000 non-null  int64 \n",
            " 3   useful  85000 non-null  int64 \n",
            " 4   cool    85000 non-null  int64 \n",
            "dtypes: int64(4), object(1)\n",
            "memory usage: 3.9+ MB\n"
          ]
        }
      ]
    },
    {
      "cell_type": "code",
      "metadata": {
        "id": "Mx3MH9V9VTmH"
      },
      "source": [
        "df.reset_index(inplace= True)\n",
        "df.drop(columns= 'index', inplace = True)\n",
        "df.to_csv('yelp_short_17000.csv')"
      ],
      "execution_count": null,
      "outputs": []
    },
    {
      "cell_type": "code",
      "metadata": {
        "id": "3cRfbI3AAKct"
      },
      "source": [
        "df.to_csv('yelp_short_17000.csv')"
      ],
      "execution_count": null,
      "outputs": []
    },
    {
      "cell_type": "markdown",
      "metadata": {
        "id": "4nt8wV5FTnfx"
      },
      "source": [
        "# The dataframe"
      ]
    },
    {
      "cell_type": "code",
      "metadata": {
        "id": "uUhb5QCDUYD-",
        "colab": {
          "base_uri": "https://localhost:8080/",
          "height": 204
        },
        "outputId": "31ce64dd-5de1-43b3-db3d-ad8799a8195e"
      },
      "source": [
        "df = pd.read_csv('yelp_short_17000.csv')\n",
        "df.drop(columns= ['Unnamed: 0'], inplace= True)\n",
        "df.dropna(inplace= True)\n",
        "df.head()"
      ],
      "execution_count": 4,
      "outputs": [
        {
          "output_type": "execute_result",
          "data": {
            "text/html": [
              "<div>\n",
              "<style scoped>\n",
              "    .dataframe tbody tr th:only-of-type {\n",
              "        vertical-align: middle;\n",
              "    }\n",
              "\n",
              "    .dataframe tbody tr th {\n",
              "        vertical-align: top;\n",
              "    }\n",
              "\n",
              "    .dataframe thead th {\n",
              "        text-align: right;\n",
              "    }\n",
              "</style>\n",
              "<table border=\"1\" class=\"dataframe\">\n",
              "  <thead>\n",
              "    <tr style=\"text-align: right;\">\n",
              "      <th></th>\n",
              "      <th>stars</th>\n",
              "      <th>text</th>\n",
              "      <th>funny</th>\n",
              "      <th>useful</th>\n",
              "      <th>cool</th>\n",
              "    </tr>\n",
              "  </thead>\n",
              "  <tbody>\n",
              "    <tr>\n",
              "      <th>0</th>\n",
              "      <td>1</td>\n",
              "      <td>I had great costumer service with the girl beh...</td>\n",
              "      <td>0</td>\n",
              "      <td>0</td>\n",
              "      <td>0</td>\n",
              "    </tr>\n",
              "    <tr>\n",
              "      <th>1</th>\n",
              "      <td>1</td>\n",
              "      <td>The food was never great here. But now it's go...</td>\n",
              "      <td>1</td>\n",
              "      <td>0</td>\n",
              "      <td>0</td>\n",
              "    </tr>\n",
              "    <tr>\n",
              "      <th>2</th>\n",
              "      <td>1</td>\n",
              "      <td>The bartender stole my debit card and then sai...</td>\n",
              "      <td>0</td>\n",
              "      <td>0</td>\n",
              "      <td>0</td>\n",
              "    </tr>\n",
              "    <tr>\n",
              "      <th>3</th>\n",
              "      <td>1</td>\n",
              "      <td>I just had the ice cream. That was when I didn...</td>\n",
              "      <td>1</td>\n",
              "      <td>1</td>\n",
              "      <td>1</td>\n",
              "    </tr>\n",
              "    <tr>\n",
              "      <th>4</th>\n",
              "      <td>1</td>\n",
              "      <td>Not good. OCB is not a place for quality dinin...</td>\n",
              "      <td>1</td>\n",
              "      <td>0</td>\n",
              "      <td>0</td>\n",
              "    </tr>\n",
              "  </tbody>\n",
              "</table>\n",
              "</div>"
            ],
            "text/plain": [
              "   stars                                               text  ...  useful  cool\n",
              "0      1  I had great costumer service with the girl beh...  ...       0     0\n",
              "1      1  The food was never great here. But now it's go...  ...       0     0\n",
              "2      1  The bartender stole my debit card and then sai...  ...       0     0\n",
              "3      1  I just had the ice cream. That was when I didn...  ...       1     1\n",
              "4      1  Not good. OCB is not a place for quality dinin...  ...       0     0\n",
              "\n",
              "[5 rows x 5 columns]"
            ]
          },
          "metadata": {},
          "execution_count": 4
        }
      ]
    },
    {
      "cell_type": "code",
      "metadata": {
        "colab": {
          "base_uri": "https://localhost:8080/",
          "height": 297
        },
        "id": "6hD_wUDwgNMc",
        "outputId": "1f48b0f4-0eea-461b-8186-798bed7f271a"
      },
      "source": [
        "df.describe()"
      ],
      "execution_count": null,
      "outputs": [
        {
          "output_type": "execute_result",
          "data": {
            "text/html": [
              "<div>\n",
              "<style scoped>\n",
              "    .dataframe tbody tr th:only-of-type {\n",
              "        vertical-align: middle;\n",
              "    }\n",
              "\n",
              "    .dataframe tbody tr th {\n",
              "        vertical-align: top;\n",
              "    }\n",
              "\n",
              "    .dataframe thead th {\n",
              "        text-align: right;\n",
              "    }\n",
              "</style>\n",
              "<table border=\"1\" class=\"dataframe\">\n",
              "  <thead>\n",
              "    <tr style=\"text-align: right;\">\n",
              "      <th></th>\n",
              "      <th>stars</th>\n",
              "      <th>funny</th>\n",
              "      <th>useful</th>\n",
              "      <th>cool</th>\n",
              "    </tr>\n",
              "  </thead>\n",
              "  <tbody>\n",
              "    <tr>\n",
              "      <th>count</th>\n",
              "      <td>84999.000000</td>\n",
              "      <td>84999.000000</td>\n",
              "      <td>84999.000000</td>\n",
              "      <td>84999.000000</td>\n",
              "    </tr>\n",
              "    <tr>\n",
              "      <th>mean</th>\n",
              "      <td>2.999976</td>\n",
              "      <td>0.773209</td>\n",
              "      <td>1.440311</td>\n",
              "      <td>0.801621</td>\n",
              "    </tr>\n",
              "    <tr>\n",
              "      <th>std</th>\n",
              "      <td>1.414214</td>\n",
              "      <td>1.966750</td>\n",
              "      <td>2.215631</td>\n",
              "      <td>1.827585</td>\n",
              "    </tr>\n",
              "    <tr>\n",
              "      <th>min</th>\n",
              "      <td>1.000000</td>\n",
              "      <td>0.000000</td>\n",
              "      <td>0.000000</td>\n",
              "      <td>0.000000</td>\n",
              "    </tr>\n",
              "    <tr>\n",
              "      <th>25%</th>\n",
              "      <td>2.000000</td>\n",
              "      <td>0.000000</td>\n",
              "      <td>0.000000</td>\n",
              "      <td>0.000000</td>\n",
              "    </tr>\n",
              "    <tr>\n",
              "      <th>50%</th>\n",
              "      <td>3.000000</td>\n",
              "      <td>0.000000</td>\n",
              "      <td>1.000000</td>\n",
              "      <td>0.000000</td>\n",
              "    </tr>\n",
              "    <tr>\n",
              "      <th>75%</th>\n",
              "      <td>4.000000</td>\n",
              "      <td>1.000000</td>\n",
              "      <td>2.000000</td>\n",
              "      <td>1.000000</td>\n",
              "    </tr>\n",
              "    <tr>\n",
              "      <th>max</th>\n",
              "      <td>5.000000</td>\n",
              "      <td>70.000000</td>\n",
              "      <td>120.000000</td>\n",
              "      <td>117.000000</td>\n",
              "    </tr>\n",
              "  </tbody>\n",
              "</table>\n",
              "</div>"
            ],
            "text/plain": [
              "              stars         funny        useful          cool\n",
              "count  84999.000000  84999.000000  84999.000000  84999.000000\n",
              "mean       2.999976      0.773209      1.440311      0.801621\n",
              "std        1.414214      1.966750      2.215631      1.827585\n",
              "min        1.000000      0.000000      0.000000      0.000000\n",
              "25%        2.000000      0.000000      0.000000      0.000000\n",
              "50%        3.000000      0.000000      1.000000      0.000000\n",
              "75%        4.000000      1.000000      2.000000      1.000000\n",
              "max        5.000000     70.000000    120.000000    117.000000"
            ]
          },
          "metadata": {},
          "execution_count": 400
        }
      ]
    },
    {
      "cell_type": "code",
      "metadata": {
        "id": "E0ljHVtQaUci",
        "colab": {
          "base_uri": "https://localhost:8080/"
        },
        "outputId": "70f9fab6-a0db-4641-a355-b9ad2fcd28a8"
      },
      "source": [
        "df.info()"
      ],
      "execution_count": null,
      "outputs": [
        {
          "output_type": "stream",
          "name": "stdout",
          "text": [
            "<class 'pandas.core.frame.DataFrame'>\n",
            "Int64Index: 84999 entries, 0 to 84999\n",
            "Data columns (total 5 columns):\n",
            " #   Column  Non-Null Count  Dtype \n",
            "---  ------  --------------  ----- \n",
            " 0   stars   84999 non-null  int64 \n",
            " 1   text    84999 non-null  object\n",
            " 2   funny   84999 non-null  int64 \n",
            " 3   useful  84999 non-null  int64 \n",
            " 4   cool    84999 non-null  int64 \n",
            "dtypes: int64(4), object(1)\n",
            "memory usage: 3.9+ MB\n"
          ]
        }
      ]
    },
    {
      "cell_type": "code",
      "metadata": {
        "id": "jmu5jFhVYZKn",
        "colab": {
          "base_uri": "https://localhost:8080/",
          "height": 419
        },
        "outputId": "60fd72ae-7dcb-40e0-da86-fff58cf84d2d"
      },
      "source": [
        "df['lenght'] = [len(x) for x in df['text'].astype(str)]\n",
        "df"
      ],
      "execution_count": null,
      "outputs": [
        {
          "output_type": "execute_result",
          "data": {
            "text/html": [
              "<div>\n",
              "<style scoped>\n",
              "    .dataframe tbody tr th:only-of-type {\n",
              "        vertical-align: middle;\n",
              "    }\n",
              "\n",
              "    .dataframe tbody tr th {\n",
              "        vertical-align: top;\n",
              "    }\n",
              "\n",
              "    .dataframe thead th {\n",
              "        text-align: right;\n",
              "    }\n",
              "</style>\n",
              "<table border=\"1\" class=\"dataframe\">\n",
              "  <thead>\n",
              "    <tr style=\"text-align: right;\">\n",
              "      <th></th>\n",
              "      <th>stars</th>\n",
              "      <th>text</th>\n",
              "      <th>funny</th>\n",
              "      <th>useful</th>\n",
              "      <th>cool</th>\n",
              "      <th>lenght</th>\n",
              "    </tr>\n",
              "  </thead>\n",
              "  <tbody>\n",
              "    <tr>\n",
              "      <th>0</th>\n",
              "      <td>1</td>\n",
              "      <td>Beware of the minute clinic.  Paid copay and b...</td>\n",
              "      <td>1</td>\n",
              "      <td>1</td>\n",
              "      <td>1</td>\n",
              "      <td>414</td>\n",
              "    </tr>\n",
              "    <tr>\n",
              "      <th>1</th>\n",
              "      <td>1</td>\n",
              "      <td>Why does this place get business? There are on...</td>\n",
              "      <td>0</td>\n",
              "      <td>0</td>\n",
              "      <td>0</td>\n",
              "      <td>439</td>\n",
              "    </tr>\n",
              "    <tr>\n",
              "      <th>2</th>\n",
              "      <td>1</td>\n",
              "      <td>I called North Valley to make an appointment. ...</td>\n",
              "      <td>0</td>\n",
              "      <td>1</td>\n",
              "      <td>0</td>\n",
              "      <td>1537</td>\n",
              "    </tr>\n",
              "    <tr>\n",
              "      <th>3</th>\n",
              "      <td>1</td>\n",
              "      <td>Back when I lived in Phoenix, I used to come t...</td>\n",
              "      <td>0</td>\n",
              "      <td>1</td>\n",
              "      <td>0</td>\n",
              "      <td>529</td>\n",
              "    </tr>\n",
              "    <tr>\n",
              "      <th>4</th>\n",
              "      <td>1</td>\n",
              "      <td>I have never stayed at Diamond Resorts Interna...</td>\n",
              "      <td>0</td>\n",
              "      <td>2</td>\n",
              "      <td>0</td>\n",
              "      <td>607</td>\n",
              "    </tr>\n",
              "    <tr>\n",
              "      <th>...</th>\n",
              "      <td>...</td>\n",
              "      <td>...</td>\n",
              "      <td>...</td>\n",
              "      <td>...</td>\n",
              "      <td>...</td>\n",
              "      <td>...</td>\n",
              "    </tr>\n",
              "    <tr>\n",
              "      <th>84995</th>\n",
              "      <td>5</td>\n",
              "      <td>This is the best local sushi spot I've ever be...</td>\n",
              "      <td>0</td>\n",
              "      <td>0</td>\n",
              "      <td>0</td>\n",
              "      <td>434</td>\n",
              "    </tr>\n",
              "    <tr>\n",
              "      <th>84996</th>\n",
              "      <td>5</td>\n",
              "      <td>My wife and I found this place last night. We ...</td>\n",
              "      <td>0</td>\n",
              "      <td>1</td>\n",
              "      <td>0</td>\n",
              "      <td>354</td>\n",
              "    </tr>\n",
              "    <tr>\n",
              "      <th>84997</th>\n",
              "      <td>5</td>\n",
              "      <td>My wife and I bought our wedding rings here.  ...</td>\n",
              "      <td>0</td>\n",
              "      <td>4</td>\n",
              "      <td>0</td>\n",
              "      <td>321</td>\n",
              "    </tr>\n",
              "    <tr>\n",
              "      <th>84998</th>\n",
              "      <td>5</td>\n",
              "      <td>The Arizona Renaissance Festival has been an a...</td>\n",
              "      <td>0</td>\n",
              "      <td>1</td>\n",
              "      <td>1</td>\n",
              "      <td>4061</td>\n",
              "    </tr>\n",
              "    <tr>\n",
              "      <th>84999</th>\n",
              "      <td>5</td>\n",
              "      <td>Dr. Dachs and everyone at Thompson Peak Family...</td>\n",
              "      <td>0</td>\n",
              "      <td>0</td>\n",
              "      <td>0</td>\n",
              "      <td>126</td>\n",
              "    </tr>\n",
              "  </tbody>\n",
              "</table>\n",
              "<p>84999 rows × 6 columns</p>\n",
              "</div>"
            ],
            "text/plain": [
              "       stars                                               text  ...  cool  lenght\n",
              "0          1  Beware of the minute clinic.  Paid copay and b...  ...     1     414\n",
              "1          1  Why does this place get business? There are on...  ...     0     439\n",
              "2          1  I called North Valley to make an appointment. ...  ...     0    1537\n",
              "3          1  Back when I lived in Phoenix, I used to come t...  ...     0     529\n",
              "4          1  I have never stayed at Diamond Resorts Interna...  ...     0     607\n",
              "...      ...                                                ...  ...   ...     ...\n",
              "84995      5  This is the best local sushi spot I've ever be...  ...     0     434\n",
              "84996      5  My wife and I found this place last night. We ...  ...     0     354\n",
              "84997      5  My wife and I bought our wedding rings here.  ...  ...     0     321\n",
              "84998      5  The Arizona Renaissance Festival has been an a...  ...     1    4061\n",
              "84999      5  Dr. Dachs and everyone at Thompson Peak Family...  ...     0     126\n",
              "\n",
              "[84999 rows x 6 columns]"
            ]
          },
          "metadata": {},
          "execution_count": 402
        }
      ]
    },
    {
      "cell_type": "markdown",
      "metadata": {
        "id": "HCEyj2BNgNMd"
      },
      "source": [
        "# EDA\n"
      ]
    },
    {
      "cell_type": "code",
      "metadata": {
        "colab": {
          "base_uri": "https://localhost:8080/",
          "height": 242
        },
        "id": "PefcFsRmJECi",
        "outputId": "a4bf70d3-003f-4137-e15d-ff4016fe6ce7"
      },
      "source": [
        "g = sns.FacetGrid(df,col='stars')\n",
        "g.map(plt.hist,'lenght', bins= 50)"
      ],
      "execution_count": null,
      "outputs": [
        {
          "output_type": "execute_result",
          "data": {
            "text/plain": [
              "<seaborn.axisgrid.FacetGrid at 0x7fdb231598d0>"
            ]
          },
          "metadata": {},
          "execution_count": 403
        },
        {
          "output_type": "display_data",
          "data": {
            "image/png": "[encoded data removed]",
            "text/plain": [
              "<Figure size 1080x216 with 5 Axes>"
            ]
          },
          "metadata": {
            "needs_background": "light"
          }
        }
      ]
    },
    {
      "cell_type": "markdown",
      "metadata": {
        "id": "q3E_XCiSgNMe"
      },
      "source": [
        "**Create a boxplot of text length for each star category.**"
      ]
    },
    {
      "cell_type": "code",
      "metadata": {
        "colab": {
          "base_uri": "https://localhost:8080/",
          "height": 296
        },
        "id": "zVJYoo7bKlgz",
        "outputId": "19a8dbaa-6cf1-437a-fded-a9675c146b39"
      },
      "source": [
        "sns.boxplot(data= df, x= 'stars', y= 'lenght')"
      ],
      "execution_count": null,
      "outputs": [
        {
          "output_type": "execute_result",
          "data": {
            "text/plain": [
              "<matplotlib.axes._subplots.AxesSubplot at 0x7fdb19576b50>"
            ]
          },
          "metadata": {},
          "execution_count": 404
        },
        {
          "output_type": "display_data",
          "data": {
            "image/png": "[encoded data removed]",
            "text/plain": [
              "<Figure size 432x288 with 1 Axes>"
            ]
          },
          "metadata": {
            "needs_background": "light"
          }
        }
      ]
    },
    {
      "cell_type": "code",
      "metadata": {
        "colab": {
          "base_uri": "https://localhost:8080/",
          "height": 235
        },
        "id": "g6WJaiYBgNMg",
        "outputId": "63932008-0bcc-4476-bb36-21a948a256d0"
      },
      "source": [
        "df.groupby('stars').mean()"
      ],
      "execution_count": null,
      "outputs": [
        {
          "output_type": "execute_result",
          "data": {
            "text/html": [
              "<div>\n",
              "<style scoped>\n",
              "    .dataframe tbody tr th:only-of-type {\n",
              "        vertical-align: middle;\n",
              "    }\n",
              "\n",
              "    .dataframe tbody tr th {\n",
              "        vertical-align: top;\n",
              "    }\n",
              "\n",
              "    .dataframe thead th {\n",
              "        text-align: right;\n",
              "    }\n",
              "</style>\n",
              "<table border=\"1\" class=\"dataframe\">\n",
              "  <thead>\n",
              "    <tr style=\"text-align: right;\">\n",
              "      <th></th>\n",
              "      <th>funny</th>\n",
              "      <th>useful</th>\n",
              "      <th>cool</th>\n",
              "      <th>lenght</th>\n",
              "    </tr>\n",
              "    <tr>\n",
              "      <th>stars</th>\n",
              "      <th></th>\n",
              "      <th></th>\n",
              "      <th></th>\n",
              "      <th></th>\n",
              "    </tr>\n",
              "  </thead>\n",
              "  <tbody>\n",
              "    <tr>\n",
              "      <th>1</th>\n",
              "      <td>0.931353</td>\n",
              "      <td>1.562529</td>\n",
              "      <td>0.544941</td>\n",
              "      <td>847.210588</td>\n",
              "    </tr>\n",
              "    <tr>\n",
              "      <th>2</th>\n",
              "      <td>0.893412</td>\n",
              "      <td>1.552941</td>\n",
              "      <td>0.729176</td>\n",
              "      <td>863.944824</td>\n",
              "    </tr>\n",
              "    <tr>\n",
              "      <th>3</th>\n",
              "      <td>0.766235</td>\n",
              "      <td>1.370765</td>\n",
              "      <td>0.858765</td>\n",
              "      <td>771.058765</td>\n",
              "    </tr>\n",
              "    <tr>\n",
              "      <th>4</th>\n",
              "      <td>0.678176</td>\n",
              "      <td>1.379471</td>\n",
              "      <td>0.970824</td>\n",
              "      <td>678.615882</td>\n",
              "    </tr>\n",
              "    <tr>\n",
              "      <th>5</th>\n",
              "      <td>0.596859</td>\n",
              "      <td>1.335843</td>\n",
              "      <td>0.904406</td>\n",
              "      <td>625.836873</td>\n",
              "    </tr>\n",
              "  </tbody>\n",
              "</table>\n",
              "</div>"
            ],
            "text/plain": [
              "          funny    useful      cool      lenght\n",
              "stars                                          \n",
              "1      0.931353  1.562529  0.544941  847.210588\n",
              "2      0.893412  1.552941  0.729176  863.944824\n",
              "3      0.766235  1.370765  0.858765  771.058765\n",
              "4      0.678176  1.379471  0.970824  678.615882\n",
              "5      0.596859  1.335843  0.904406  625.836873"
            ]
          },
          "metadata": {},
          "execution_count": 405
        }
      ]
    },
    {
      "cell_type": "code",
      "metadata": {
        "colab": {
          "base_uri": "https://localhost:8080/",
          "height": 173
        },
        "id": "5pPubBgLgNMg",
        "outputId": "e13bd975-6dae-4e69-9859-11c3858de294"
      },
      "source": [
        "df.groupby('stars').mean().corr()"
      ],
      "execution_count": null,
      "outputs": [
        {
          "output_type": "execute_result",
          "data": {
            "text/html": [
              "<div>\n",
              "<style scoped>\n",
              "    .dataframe tbody tr th:only-of-type {\n",
              "        vertical-align: middle;\n",
              "    }\n",
              "\n",
              "    .dataframe tbody tr th {\n",
              "        vertical-align: top;\n",
              "    }\n",
              "\n",
              "    .dataframe thead th {\n",
              "        text-align: right;\n",
              "    }\n",
              "</style>\n",
              "<table border=\"1\" class=\"dataframe\">\n",
              "  <thead>\n",
              "    <tr style=\"text-align: right;\">\n",
              "      <th></th>\n",
              "      <th>funny</th>\n",
              "      <th>useful</th>\n",
              "      <th>cool</th>\n",
              "      <th>lenght</th>\n",
              "    </tr>\n",
              "  </thead>\n",
              "  <tbody>\n",
              "    <tr>\n",
              "      <th>funny</th>\n",
              "      <td>1.000000</td>\n",
              "      <td>0.940027</td>\n",
              "      <td>-0.882173</td>\n",
              "      <td>0.982984</td>\n",
              "    </tr>\n",
              "    <tr>\n",
              "      <th>useful</th>\n",
              "      <td>0.940027</td>\n",
              "      <td>1.000000</td>\n",
              "      <td>-0.882548</td>\n",
              "      <td>0.900344</td>\n",
              "    </tr>\n",
              "    <tr>\n",
              "      <th>cool</th>\n",
              "      <td>-0.882173</td>\n",
              "      <td>-0.882548</td>\n",
              "      <td>1.000000</td>\n",
              "      <td>-0.812211</td>\n",
              "    </tr>\n",
              "    <tr>\n",
              "      <th>lenght</th>\n",
              "      <td>0.982984</td>\n",
              "      <td>0.900344</td>\n",
              "      <td>-0.812211</td>\n",
              "      <td>1.000000</td>\n",
              "    </tr>\n",
              "  </tbody>\n",
              "</table>\n",
              "</div>"
            ],
            "text/plain": [
              "           funny    useful      cool    lenght\n",
              "funny   1.000000  0.940027 -0.882173  0.982984\n",
              "useful  0.940027  1.000000 -0.882548  0.900344\n",
              "cool   -0.882173 -0.882548  1.000000 -0.812211\n",
              "lenght  0.982984  0.900344 -0.812211  1.000000"
            ]
          },
          "metadata": {},
          "execution_count": 406
        }
      ]
    },
    {
      "cell_type": "markdown",
      "metadata": {
        "id": "H9ghyivogNMh"
      },
      "source": [
        "**Then use seaborn to create a heatmap based off that .corr() dataframe:**"
      ]
    },
    {
      "cell_type": "code",
      "metadata": {
        "colab": {
          "base_uri": "https://localhost:8080/",
          "height": 286
        },
        "id": "eVG76QYBgNMh",
        "outputId": "a3c37dfb-dac1-4e39-cb91-1b002842a573"
      },
      "source": [
        "sns.heatmap(df.groupby('stars').mean().corr(), cmap='coolwarm',annot=True)"
      ],
      "execution_count": null,
      "outputs": [
        {
          "output_type": "execute_result",
          "data": {
            "text/plain": [
              "<matplotlib.axes._subplots.AxesSubplot at 0x7fdb22df1f90>"
            ]
          },
          "metadata": {},
          "execution_count": 407
        },
        {
          "output_type": "display_data",
          "data": {
            "image/png": "[encoded data removed]",
            "text/plain": [
              "<Figure size 432x288 with 2 Axes>"
            ]
          },
          "metadata": {
            "needs_background": "light"
          }
        }
      ]
    },
    {
      "cell_type": "markdown",
      "metadata": {
        "id": "l2B7CeZqgNMh"
      },
      "source": [
        "# NLP Classification Task level 1"
      ]
    },
    {
      "cell_type": "code",
      "metadata": {
        "collapsed": true,
        "id": "0tIKv6lfgNMi",
        "colab": {
          "base_uri": "https://localhost:8080/"
        },
        "outputId": "4c1c5135-1e6c-4f8b-a20e-3569fa049e4c"
      },
      "source": [
        "# To make things easier, working only with 1 and 5 stars\n",
        "# For this level 1, I'll be using only vectors and NB\n",
        "data_class = df[(df.stars == 1) | (df.stars == 5)]\n",
        "data_class.info()"
      ],
      "execution_count": 5,
      "outputs": [
        {
          "output_type": "stream",
          "name": "stdout",
          "text": [
            "<class 'pandas.core.frame.DataFrame'>\n",
            "Int64Index: 33999 entries, 0 to 84999\n",
            "Data columns (total 5 columns):\n",
            " #   Column  Non-Null Count  Dtype \n",
            "---  ------  --------------  ----- \n",
            " 0   stars   33999 non-null  int64 \n",
            " 1   text    33999 non-null  object\n",
            " 2   funny   33999 non-null  int64 \n",
            " 3   useful  33999 non-null  int64 \n",
            " 4   cool    33999 non-null  int64 \n",
            "dtypes: int64(4), object(1)\n",
            "memory usage: 1.6+ MB\n"
          ]
        }
      ]
    },
    {
      "cell_type": "code",
      "metadata": {
        "id": "2Lx1y2yIeZuV",
        "colab": {
          "base_uri": "https://localhost:8080/"
        },
        "outputId": "89a96af4-5174-446a-f0eb-ecc88ba50e0f"
      },
      "source": [
        "data_class.stars.unique()"
      ],
      "execution_count": 6,
      "outputs": [
        {
          "output_type": "execute_result",
          "data": {
            "text/plain": [
              "array([1, 5])"
            ]
          },
          "metadata": {},
          "execution_count": 6
        }
      ]
    },
    {
      "cell_type": "code",
      "metadata": {
        "collapsed": true,
        "id": "ykNHO40VgNMi"
      },
      "source": [
        "X = data_class['text']\n",
        "y = data_class['stars']\n",
        "\n",
        "X_train_raw, X_test_raw, y_train, y_test = train_test_split(X, y, random_state = 101)"
      ],
      "execution_count": 19,
      "outputs": []
    },
    {
      "cell_type": "code",
      "metadata": {
        "collapsed": true,
        "id": "tYn0XPKjgNMj"
      },
      "source": [
        "cv = CountVectorizer()\n",
        "X_train = cv.fit_transform(X_train_raw)\n",
        "X_test = cv.transform(X_test_raw)"
      ],
      "execution_count": 20,
      "outputs": []
    },
    {
      "cell_type": "code",
      "metadata": {
        "id": "0PGgNYPTgNMl"
      },
      "source": [
        "modelo = MultinomialNB().fit(X_train, y_train)"
      ],
      "execution_count": 21,
      "outputs": []
    },
    {
      "cell_type": "code",
      "metadata": {
        "id": "ph2MJmtyE_Gr"
      },
      "source": [
        "predictions = modelo.predict(X_test)"
      ],
      "execution_count": 22,
      "outputs": []
    },
    {
      "cell_type": "code",
      "metadata": {
        "id": "iUNLPgQAGr7N",
        "colab": {
          "base_uri": "https://localhost:8080/"
        },
        "outputId": "d14a77af-37e5-419a-a8b0-a020d777aceb"
      },
      "source": [
        "print(confusion_matrix(y_test, predictions))\n",
        "print('\\n')\n",
        "print(classification_report(y_test, predictions))"
      ],
      "execution_count": 23,
      "outputs": [
        {
          "output_type": "stream",
          "name": "stdout",
          "text": [
            "[[3879  350]\n",
            " [ 338 3933]]\n",
            "\n",
            "\n",
            "              precision    recall  f1-score   support\n",
            "\n",
            "           1       0.92      0.92      0.92      4229\n",
            "           5       0.92      0.92      0.92      4271\n",
            "\n",
            "    accuracy                           0.92      8500\n",
            "   macro avg       0.92      0.92      0.92      8500\n",
            "weighted avg       0.92      0.92      0.92      8500\n",
            "\n"
          ]
        }
      ]
    },
    {
      "cell_type": "code",
      "metadata": {
        "id": "cxGTZL0oHCTZ",
        "outputId": "c9ea1525-7a66-4f6a-d29e-f8f7c7d51bda",
        "colab": {
          "base_uri": "https://localhost:8080/"
        }
      },
      "source": [
        "testing = ['I really liked', 'I hated', \"I don't liked\", \"I don't get the point. why does it have to be so bad?\"]\n",
        "vec_testing = cv.transform(testing)\n",
        "print(f\"modelo vetorial: {modelo.predict_proba(vec_testing)}\")"
      ],
      "execution_count": 28,
      "outputs": [
        {
          "output_type": "stream",
          "name": "stdout",
          "text": [
            "modelo vetorial: [[0.3166824  0.6833176 ]\n",
            " [0.85991071 0.14008929]\n",
            " [0.44041131 0.55958869]\n",
            " [0.97087593 0.02912407]]\n"
          ]
        }
      ]
    },
    {
      "cell_type": "markdown",
      "metadata": {
        "id": "pZA88KLtFE43"
      },
      "source": [
        "## Using pipeline\n",
        "Can I get same results using a pipeline?"
      ]
    },
    {
      "cell_type": "code",
      "metadata": {
        "id": "0NpWyUz0FGjo"
      },
      "source": [
        "pipeline = Pipeline([\n",
        "    ('bow', CountVectorizer()),  # strings to token integer counts\n",
        "    ('classifier', MultinomialNB()),  # train on vectors w/ Naive Bayes classifier\n",
        "])"
      ],
      "execution_count": 12,
      "outputs": []
    },
    {
      "cell_type": "code",
      "metadata": {
        "id": "2MsMl7dgFKiK"
      },
      "source": [
        "X = data_class['text']\n",
        "y = data_class['stars']\n",
        "\n",
        "X_train, X_test, y_train, y_test = train_test_split(X, y, random_state = 101)\n",
        "\n",
        "pipeline.fit(X_train, y_train)\n",
        "predictions = pipeline.predict(X_test)"
      ],
      "execution_count": 13,
      "outputs": []
    },
    {
      "cell_type": "code",
      "metadata": {
        "id": "oMMIGEBYFV6f",
        "colab": {
          "base_uri": "https://localhost:8080/"
        },
        "outputId": "6676e705-444d-43b6-f9d6-3a8c8a2be257"
      },
      "source": [
        "print(confusion_matrix(y_test, predictions))\n",
        "print('\\n')\n",
        "print(classification_report(y_test, predictions))"
      ],
      "execution_count": 14,
      "outputs": [
        {
          "output_type": "stream",
          "name": "stdout",
          "text": [
            "[[3879  350]\n",
            " [ 338 3933]]\n",
            "\n",
            "\n",
            "              precision    recall  f1-score   support\n",
            "\n",
            "           1       0.92      0.92      0.92      4229\n",
            "           5       0.92      0.92      0.92      4271\n",
            "\n",
            "    accuracy                           0.92      8500\n",
            "   macro avg       0.92      0.92      0.92      8500\n",
            "weighted avg       0.92      0.92      0.92      8500\n",
            "\n"
          ]
        }
      ]
    },
    {
      "cell_type": "code",
      "metadata": {
        "id": "LLPG93OWG72E",
        "outputId": "530b6e5a-6bf4-4d1f-d1eb-f486874a1ed9",
        "colab": {
          "base_uri": "https://localhost:8080/"
        }
      },
      "source": [
        "testing = ['I really liked', 'I hated', \"I don't liked\", \"I don't get the point. why does it have to be so bad?\"]\n",
        "print(f'Pipeline_vec {pipeline.predict_proba(testing)}')"
      ],
      "execution_count": 30,
      "outputs": [
        {
          "output_type": "stream",
          "name": "stdout",
          "text": [
            "Pipeline_vec [[0.3166824  0.6833176 ]\n",
            " [0.85991071 0.14008929]\n",
            " [0.44041131 0.55958869]\n",
            " [0.97087593 0.02912407]]\n"
          ]
        }
      ]
    },
    {
      "cell_type": "markdown",
      "metadata": {
        "id": "jXxIGoE-gNMn"
      },
      "source": [
        "# Using Text Processing Level 2\n"
      ]
    },
    {
      "cell_type": "code",
      "metadata": {
        "id": "r9N3dcoBgNMo"
      },
      "source": [
        "pipeline = Pipeline([\n",
        "    ('bow', CountVectorizer()),  # strings to token integer counts\n",
        "    ('tfidf', TfidfTransformer()),  # integer counts to weighted TF-IDF scores\n",
        "    ('classifier', MultinomialNB()),  # train on TF-IDF vectors w/ Naive Bayes classifier\n",
        "])"
      ],
      "execution_count": null,
      "outputs": []
    },
    {
      "cell_type": "code",
      "metadata": {
        "id": "S621EyPxDEf-"
      },
      "source": [
        "X = data_class['text']\n",
        "y = data_class['stars']\n",
        "\n",
        "X_train, X_test, y_train, y_test = train_test_split(X, y, random_state = 101)"
      ],
      "execution_count": null,
      "outputs": []
    },
    {
      "cell_type": "code",
      "metadata": {
        "id": "ia6NXKDKDLHa",
        "colab": {
          "base_uri": "https://localhost:8080/"
        },
        "outputId": "0d54ac0b-d372-442f-ad67-5852ff3c8258"
      },
      "source": [
        "pipeline.fit(X_train, y_train)"
      ],
      "execution_count": null,
      "outputs": [
        {
          "output_type": "execute_result",
          "data": {
            "text/plain": [
              "Pipeline(memory=None,\n",
              "         steps=[('bow',\n",
              "                 CountVectorizer(analyzer='word', binary=False,\n",
              "                                 decode_error='strict',\n",
              "                                 dtype=<class 'numpy.int64'>, encoding='utf-8',\n",
              "                                 input='content', lowercase=True, max_df=1.0,\n",
              "                                 max_features=None, min_df=1,\n",
              "                                 ngram_range=(1, 1), preprocessor=None,\n",
              "                                 stop_words=None, strip_accents=None,\n",
              "                                 token_pattern='(?u)\\\\b\\\\w\\\\w+\\\\b',\n",
              "                                 tokenizer=None, vocabulary=None)),\n",
              "                ('tfidf',\n",
              "                 TfidfTransformer(norm='l2', smooth_idf=True,\n",
              "                                  sublinear_tf=False, use_idf=True)),\n",
              "                ('classifier',\n",
              "                 MultinomialNB(alpha=1.0, class_prior=None, fit_prior=True))],\n",
              "         verbose=False)"
            ]
          },
          "metadata": {},
          "execution_count": 420
        }
      ]
    },
    {
      "cell_type": "code",
      "metadata": {
        "id": "BTizbuYKDUP1"
      },
      "source": [
        "predictions = pipeline.predict(X_test)"
      ],
      "execution_count": null,
      "outputs": []
    },
    {
      "cell_type": "code",
      "metadata": {
        "id": "aO02oV78DdRU",
        "colab": {
          "base_uri": "https://localhost:8080/"
        },
        "outputId": "9a4b58d5-9dc9-44fa-8094-627e299f9eb2"
      },
      "source": [
        "print(confusion_matrix(y_test, predictions))\n",
        "print('\\n')\n",
        "print(classification_report(y_test, predictions))"
      ],
      "execution_count": null,
      "outputs": [
        {
          "output_type": "stream",
          "name": "stdout",
          "text": [
            "[[4034  195]\n",
            " [ 478 3793]]\n",
            "\n",
            "\n",
            "              precision    recall  f1-score   support\n",
            "\n",
            "           1       0.89      0.95      0.92      4229\n",
            "           5       0.95      0.89      0.92      4271\n",
            "\n",
            "    accuracy                           0.92      8500\n",
            "   macro avg       0.92      0.92      0.92      8500\n",
            "weighted avg       0.92      0.92      0.92      8500\n",
            "\n"
          ]
        }
      ]
    },
    {
      "cell_type": "code",
      "metadata": {
        "id": "ujtnWgFMLDYM",
        "colab": {
          "base_uri": "https://localhost:8080/"
        },
        "outputId": "980300b7-52fb-483e-c0f7-e21622eb14f2"
      },
      "source": [
        "# Trying RandomForestClassifier\n",
        "\n",
        "pipeline_forest = Pipeline([\n",
        "    ('bow', CountVectorizer()),  # strings to token integer counts\n",
        "    ('tfidf', TfidfTransformer()),  # integer counts to weighted TF-IDF scores\n",
        "    ('classifier', RandomForestClassifier()),  # train on TF-IDF vectors w/ RandomForestClassifier()\n",
        "])\n",
        "\n",
        "X = data_class['text']\n",
        "y = data_class['stars']\n",
        "\n",
        "X_train, X_test, y_train, y_test = train_test_split(X, y, random_state = 101)\n",
        "\n",
        "pipeline_forest.fit(X_train, y_train)\n",
        "\n",
        "predictions = pipeline_forest.predict(X_test)\n",
        "\n",
        "print(confusion_matrix(y_test, predictions))\n",
        "print('\\n')\n",
        "print(classification_report(y_test, predictions))"
      ],
      "execution_count": null,
      "outputs": [
        {
          "output_type": "stream",
          "name": "stdout",
          "text": [
            "[[3920  309]\n",
            " [ 464 3807]]\n",
            "\n",
            "\n",
            "              precision    recall  f1-score   support\n",
            "\n",
            "           1       0.89      0.93      0.91      4229\n",
            "           5       0.92      0.89      0.91      4271\n",
            "\n",
            "    accuracy                           0.91      8500\n",
            "   macro avg       0.91      0.91      0.91      8500\n",
            "weighted avg       0.91      0.91      0.91      8500\n",
            "\n"
          ]
        }
      ]
    },
    {
      "cell_type": "markdown",
      "metadata": {
        "id": "1_nK3GpuLjdJ"
      },
      "source": [
        "# Using Text Processing Level 3\n",
        "removing stopwords and ponctuations"
      ]
    },
    {
      "cell_type": "code",
      "metadata": {
        "id": "udR6vzOyW4Na"
      },
      "source": [
        "# downloading stopwords\n",
        "# nltk.download_shell()"
      ],
      "execution_count": null,
      "outputs": []
    },
    {
      "cell_type": "code",
      "metadata": {
        "id": "Qwp9lYDCXDpa"
      },
      "source": [
        "from nltk.corpus import stopwords\n",
        "import string \n",
        "\n",
        "def text_process(mess):\n",
        "  # 1. remove punctuation\n",
        "  # 2. remove stop words\n",
        "  # 3. return list of clean text words\n",
        "\n",
        "  nopunc = [char for char in mess if char not in string.punctuation]\n",
        "  \n",
        "  nopunc = ''.join(nopunc)\n",
        "\n",
        "  return [word for word in nopunc.split() if word.lower() not in stopwords.words('english')]"
      ],
      "execution_count": null,
      "outputs": []
    },
    {
      "cell_type": "code",
      "metadata": {
        "colab": {
          "base_uri": "https://localhost:8080/"
        },
        "id": "-FaMmGDXXSFd",
        "outputId": "34303288-7506-4f81-cce6-5aa0e0b626f2"
      },
      "source": [
        "pipeline_naive = Pipeline([\n",
        "                     ('bow', CountVectorizer(analyzer = text_process)),\n",
        "                     ('tidf', TfidfTransformer()),\n",
        "                     ('classifier', MultinomialNB())\n",
        "])\n",
        "\n",
        "X = data_class['text']\n",
        "y = data_class['stars']\n",
        "\n",
        "X_train, X_test, y_train, y_test = train_test_split(X, y, random_state = 101)\n",
        "\n",
        "pipeline_naive.fit(X_train, y_train)\n",
        "\n",
        "predictions = pipeline_naive.predict(X_test)\n",
        "\n",
        "print(confusion_matrix(y_test, predictions))\n",
        "print('\\n')\n",
        "print(classification_report(y_test, predictions))"
      ],
      "execution_count": null,
      "outputs": [
        {
          "output_type": "stream",
          "name": "stdout",
          "text": [
            "[[4035  194]\n",
            " [ 470 3801]]\n",
            "\n",
            "\n",
            "              precision    recall  f1-score   support\n",
            "\n",
            "           1       0.90      0.95      0.92      4229\n",
            "           5       0.95      0.89      0.92      4271\n",
            "\n",
            "    accuracy                           0.92      8500\n",
            "   macro avg       0.92      0.92      0.92      8500\n",
            "weighted avg       0.92      0.92      0.92      8500\n",
            "\n"
          ]
        }
      ]
    },
    {
      "cell_type": "code",
      "metadata": {
        "id": "bYLH1iKsktOM",
        "colab": {
          "base_uri": "https://localhost:8080/"
        },
        "outputId": "460cbbc0-0c50-4b49-97e0-ea4d0108214e"
      },
      "source": [
        "testing = ['I really liked', 'I hated', \"I don't liked\", \"I don't get the point. why does it have to be so bad?\"]\n",
        "print(pipeline.predict(testing))\n",
        "print(pipeline_naive.predict(testing))\n",
        "print(pipeline_naive.predict_proba(testing))"
      ],
      "execution_count": null,
      "outputs": [
        {
          "output_type": "stream",
          "name": "stdout",
          "text": [
            "[5 1 5 1]\n",
            "[5 1 5 1]\n",
            "[[0.38533575 0.61466425]\n",
            " [0.78342911 0.21657089]\n",
            " [0.46991305 0.53008695]\n",
            " [0.80020864 0.19979136]]\n"
          ]
        }
      ]
    },
    {
      "cell_type": "code",
      "metadata": {
        "id": "y9kTK_bJNRpu",
        "colab": {
          "base_uri": "https://localhost:8080/"
        },
        "outputId": "7161a69a-76cb-4fb5-8a55-89c7f978fd8b"
      },
      "source": [
        "\n",
        "pipeline_forest = Pipeline([\n",
        "    ('bow', CountVectorizer(analyzer = text_process)),  # strings to token integer counts\n",
        "    ('tfidf', TfidfTransformer()),  # integer counts to weighted TF-IDF scores\n",
        "    ('classifier', RandomForestClassifier()),  # train on TF-IDF vectors w/ RandomForestClassifier()\n",
        "])\n",
        "\n",
        "X = data_class['text']\n",
        "y = data_class['stars']\n",
        "\n",
        "X_train, X_test, y_train, y_test = train_test_split(X, y, random_state = 101)\n",
        "\n",
        "pipeline_forest.fit(X_train, y_train)\n",
        "\n",
        "predictions = pipeline_forest.predict(X_test)\n",
        "\n",
        "print(confusion_matrix(y_test, predictions))\n",
        "print('\\n')\n",
        "print(classification_report(y_test, predictions))"
      ],
      "execution_count": null,
      "outputs": [
        {
          "output_type": "stream",
          "name": "stdout",
          "text": [
            "[[3941  288]\n",
            " [ 475 3796]]\n",
            "\n",
            "\n",
            "              precision    recall  f1-score   support\n",
            "\n",
            "           1       0.89      0.93      0.91      4229\n",
            "           5       0.93      0.89      0.91      4271\n",
            "\n",
            "    accuracy                           0.91      8500\n",
            "   macro avg       0.91      0.91      0.91      8500\n",
            "weighted avg       0.91      0.91      0.91      8500\n",
            "\n"
          ]
        }
      ]
    }
  ]
}